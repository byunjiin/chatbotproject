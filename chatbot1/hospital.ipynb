{
 "cells": [
  {
   "cell_type": "code",
   "execution_count": 2,
   "id": "b952baff",
   "metadata": {},
   "outputs": [],
   "source": [
    "import pandas as pd\n",
    "from sentence_transformers import SentenceTransformer\n",
    "from sklearn.metrics.pairwise import cosine_similarity"
   ]
  },
  {
   "cell_type": "code",
   "execution_count": 4,
   "id": "c53b9ba7",
   "metadata": {},
   "outputs": [
    {
     "name": "stdout",
     "output_type": "stream",
     "text": [
      "[[-0.17859319 -0.56129384  0.4462766  ...  0.5000263   0.43289557\n",
      "  -0.7486536 ]\n",
      " [-0.04332647 -0.19026887  0.18326144 ...  0.28992328  0.3031346\n",
      "  -0.20568919]]\n"
     ]
    }
   ],
   "source": [
    "model = SentenceTransformer('jhgan/ko-sroberta-multitask')\n",
    "\n",
    "sentences=[\"안녕하세요\",\"병원챗봇입니다\"]\n",
    "embeddings = model.encode(sentences)\n",
    "\n",
    "print(embeddings)"
   ]
  },
  {
   "cell_type": "code",
   "execution_count": 8,
   "id": "63968863",
   "metadata": {},
   "outputs": [
    {
     "data": {
      "text/html": [
       "<div>\n",
       "<style scoped>\n",
       "    .dataframe tbody tr th:only-of-type {\n",
       "        vertical-align: middle;\n",
       "    }\n",
       "\n",
       "    .dataframe tbody tr th {\n",
       "        vertical-align: top;\n",
       "    }\n",
       "\n",
       "    .dataframe thead th {\n",
       "        text-align: right;\n",
       "    }\n",
       "</style>\n",
       "<table border=\"1\" class=\"dataframe\">\n",
       "  <thead>\n",
       "    <tr style=\"text-align: right;\">\n",
       "      <th></th>\n",
       "      <th>idx</th>\n",
       "      <th>유저</th>\n",
       "      <th>챗봇</th>\n",
       "    </tr>\n",
       "  </thead>\n",
       "  <tbody>\n",
       "    <tr>\n",
       "      <th>0</th>\n",
       "      <td>1</td>\n",
       "      <td>붕대 안 썼으면 환불 가능해요?</td>\n",
       "      <td>네, 붕대 안 쓰셨으면 환불 가능합니다.</td>\n",
       "    </tr>\n",
       "    <tr>\n",
       "      <th>1</th>\n",
       "      <td>2</td>\n",
       "      <td>붕대 안 썼는데 환불 가능한가요?</td>\n",
       "      <td>네, 붕대 안 쓰셨다면 환불 가능합니다.</td>\n",
       "    </tr>\n",
       "    <tr>\n",
       "      <th>2</th>\n",
       "      <td>3</td>\n",
       "      <td>NaN</td>\n",
       "      <td>NaN</td>\n",
       "    </tr>\n",
       "    <tr>\n",
       "      <th>3</th>\n",
       "      <td>4</td>\n",
       "      <td>붕대 안 썼는데 환불해 주실 수 있어요?</td>\n",
       "      <td>네, 환불해드릴 수 있습니다.</td>\n",
       "    </tr>\n",
       "    <tr>\n",
       "      <th>4</th>\n",
       "      <td>5</td>\n",
       "      <td>NaN</td>\n",
       "      <td>NaN</td>\n",
       "    </tr>\n",
       "  </tbody>\n",
       "</table>\n",
       "</div>"
      ],
      "text/plain": [
       "   idx                      유저                      챗봇\n",
       "0    1       붕대 안 썼으면 환불 가능해요?  네, 붕대 안 쓰셨으면 환불 가능합니다.\n",
       "1    2      붕대 안 썼는데 환불 가능한가요?  네, 붕대 안 쓰셨다면 환불 가능합니다.\n",
       "2    3                     NaN                     NaN\n",
       "3    4  붕대 안 썼는데 환불해 주실 수 있어요?        네, 환불해드릴 수 있습니다.\n",
       "4    5                     NaN                     NaN"
      ]
     },
     "execution_count": 8,
     "metadata": {},
     "output_type": "execute_result"
    }
   ],
   "source": [
    "df = pd.read_csv('hospital-dataset.csv')\n",
    "df.head()"
   ]
  },
  {
   "cell_type": "code",
   "execution_count": 13,
   "id": "6c44c1c3",
   "metadata": {},
   "outputs": [
    {
     "data": {
      "text/html": [
       "<div>\n",
       "<style scoped>\n",
       "    .dataframe tbody tr th:only-of-type {\n",
       "        vertical-align: middle;\n",
       "    }\n",
       "\n",
       "    .dataframe tbody tr th {\n",
       "        vertical-align: top;\n",
       "    }\n",
       "\n",
       "    .dataframe thead th {\n",
       "        text-align: right;\n",
       "    }\n",
       "</style>\n",
       "<table border=\"1\" class=\"dataframe\">\n",
       "  <thead>\n",
       "    <tr style=\"text-align: right;\">\n",
       "      <th></th>\n",
       "      <th>idx</th>\n",
       "      <th>유저</th>\n",
       "      <th>챗봇</th>\n",
       "      <th>embedding</th>\n",
       "    </tr>\n",
       "  </thead>\n",
       "  <tbody>\n",
       "    <tr>\n",
       "      <th>0</th>\n",
       "      <td>1</td>\n",
       "      <td>붕대 안 썼으면 환불 가능해요?</td>\n",
       "      <td>네, 붕대 안 쓰셨으면 환불 가능합니다.</td>\n",
       "      <td>[]</td>\n",
       "    </tr>\n",
       "    <tr>\n",
       "      <th>1</th>\n",
       "      <td>2</td>\n",
       "      <td>붕대 안 썼는데 환불 가능한가요?</td>\n",
       "      <td>네, 붕대 안 쓰셨다면 환불 가능합니다.</td>\n",
       "      <td>[]</td>\n",
       "    </tr>\n",
       "    <tr>\n",
       "      <th>3</th>\n",
       "      <td>4</td>\n",
       "      <td>붕대 안 썼는데 환불해 주실 수 있어요?</td>\n",
       "      <td>네, 환불해드릴 수 있습니다.</td>\n",
       "      <td>[]</td>\n",
       "    </tr>\n",
       "    <tr>\n",
       "      <th>5</th>\n",
       "      <td>6</td>\n",
       "      <td>붕대 안 쓸 건데 환불해 주실 수 있죠?</td>\n",
       "      <td>그럼요, 환불해드릴 수 있습니다.</td>\n",
       "      <td>[]</td>\n",
       "    </tr>\n",
       "    <tr>\n",
       "      <th>6</th>\n",
       "      <td>7</td>\n",
       "      <td>붕대 안 쓸 건데 환불해 주실 수 있는 건가요?</td>\n",
       "      <td>그럼요, 환불해드릴 수 있어요.</td>\n",
       "      <td>[]</td>\n",
       "    </tr>\n",
       "  </tbody>\n",
       "</table>\n",
       "</div>"
      ],
      "text/plain": [
       "   idx                          유저                      챗봇 embedding\n",
       "0    1           붕대 안 썼으면 환불 가능해요?  네, 붕대 안 쓰셨으면 환불 가능합니다.        []\n",
       "1    2          붕대 안 썼는데 환불 가능한가요?  네, 붕대 안 쓰셨다면 환불 가능합니다.        []\n",
       "3    4      붕대 안 썼는데 환불해 주실 수 있어요?        네, 환불해드릴 수 있습니다.        []\n",
       "5    6      붕대 안 쓸 건데 환불해 주실 수 있죠?      그럼요, 환불해드릴 수 있습니다.        []\n",
       "6    7  붕대 안 쓸 건데 환불해 주실 수 있는 건가요?       그럼요, 환불해드릴 수 있어요.        []"
      ]
     },
     "execution_count": 13,
     "metadata": {},
     "output_type": "execute_result"
    }
   ],
   "source": [
    "df = df[~df['챗봇'].isna()]\n",
    "df.head()"
   ]
  },
  {
   "cell_type": "code",
   "execution_count": 14,
   "id": "a241d6b9",
   "metadata": {},
   "outputs": [
    {
     "name": "stderr",
     "output_type": "stream",
     "text": [
      "C:\\Users\\jibyu\\AppData\\Local\\Temp\\ipykernel_19300\\2950178361.py:1: SettingWithCopyWarning: \n",
      "A value is trying to be set on a copy of a slice from a DataFrame.\n",
      "Try using .loc[row_indexer,col_indexer] = value instead\n",
      "\n",
      "See the caveats in the documentation: https://pandas.pydata.org/pandas-docs/stable/user_guide/indexing.html#returning-a-view-versus-a-copy\n",
      "  df['embedding']= pd.Series([[]]*len(df))\n",
      "C:\\Users\\jibyu\\AppData\\Local\\Temp\\ipykernel_19300\\2950178361.py:2: SettingWithCopyWarning: \n",
      "A value is trying to be set on a copy of a slice from a DataFrame.\n",
      "Try using .loc[row_indexer,col_indexer] = value instead\n",
      "\n",
      "See the caveats in the documentation: https://pandas.pydata.org/pandas-docs/stable/user_guide/indexing.html#returning-a-view-versus-a-copy\n",
      "  df['embedding']= df['유저'].map(lambda x:list(model.encode(x)))\n"
     ]
    },
    {
     "data": {
      "text/html": [
       "<div>\n",
       "<style scoped>\n",
       "    .dataframe tbody tr th:only-of-type {\n",
       "        vertical-align: middle;\n",
       "    }\n",
       "\n",
       "    .dataframe tbody tr th {\n",
       "        vertical-align: top;\n",
       "    }\n",
       "\n",
       "    .dataframe thead th {\n",
       "        text-align: right;\n",
       "    }\n",
       "</style>\n",
       "<table border=\"1\" class=\"dataframe\">\n",
       "  <thead>\n",
       "    <tr style=\"text-align: right;\">\n",
       "      <th></th>\n",
       "      <th>idx</th>\n",
       "      <th>유저</th>\n",
       "      <th>챗봇</th>\n",
       "      <th>embedding</th>\n",
       "    </tr>\n",
       "  </thead>\n",
       "  <tbody>\n",
       "    <tr>\n",
       "      <th>0</th>\n",
       "      <td>1</td>\n",
       "      <td>붕대 안 썼으면 환불 가능해요?</td>\n",
       "      <td>네, 붕대 안 쓰셨으면 환불 가능합니다.</td>\n",
       "      <td>[-0.66372144, -0.17827405, 0.30256855, 0.02195...</td>\n",
       "    </tr>\n",
       "    <tr>\n",
       "      <th>1</th>\n",
       "      <td>2</td>\n",
       "      <td>붕대 안 썼는데 환불 가능한가요?</td>\n",
       "      <td>네, 붕대 안 쓰셨다면 환불 가능합니다.</td>\n",
       "      <td>[-0.9515984, -0.11016416, 0.348989, 0.08312898...</td>\n",
       "    </tr>\n",
       "    <tr>\n",
       "      <th>3</th>\n",
       "      <td>4</td>\n",
       "      <td>붕대 안 썼는데 환불해 주실 수 있어요?</td>\n",
       "      <td>네, 환불해드릴 수 있습니다.</td>\n",
       "      <td>[-0.7817194, -0.13718404, 0.36344668, 0.117741...</td>\n",
       "    </tr>\n",
       "    <tr>\n",
       "      <th>5</th>\n",
       "      <td>6</td>\n",
       "      <td>붕대 안 쓸 건데 환불해 주실 수 있죠?</td>\n",
       "      <td>그럼요, 환불해드릴 수 있습니다.</td>\n",
       "      <td>[-0.84055287, -0.036251433, 0.35056397, 0.2426...</td>\n",
       "    </tr>\n",
       "    <tr>\n",
       "      <th>6</th>\n",
       "      <td>7</td>\n",
       "      <td>붕대 안 쓸 건데 환불해 주실 수 있는 건가요?</td>\n",
       "      <td>그럼요, 환불해드릴 수 있어요.</td>\n",
       "      <td>[-1.0159315, 0.023863839, 0.33913317, 0.055935...</td>\n",
       "    </tr>\n",
       "  </tbody>\n",
       "</table>\n",
       "</div>"
      ],
      "text/plain": [
       "   idx                          유저                      챗봇  \\\n",
       "0    1           붕대 안 썼으면 환불 가능해요?  네, 붕대 안 쓰셨으면 환불 가능합니다.   \n",
       "1    2          붕대 안 썼는데 환불 가능한가요?  네, 붕대 안 쓰셨다면 환불 가능합니다.   \n",
       "3    4      붕대 안 썼는데 환불해 주실 수 있어요?        네, 환불해드릴 수 있습니다.   \n",
       "5    6      붕대 안 쓸 건데 환불해 주실 수 있죠?      그럼요, 환불해드릴 수 있습니다.   \n",
       "6    7  붕대 안 쓸 건데 환불해 주실 수 있는 건가요?       그럼요, 환불해드릴 수 있어요.   \n",
       "\n",
       "                                           embedding  \n",
       "0  [-0.66372144, -0.17827405, 0.30256855, 0.02195...  \n",
       "1  [-0.9515984, -0.11016416, 0.348989, 0.08312898...  \n",
       "3  [-0.7817194, -0.13718404, 0.36344668, 0.117741...  \n",
       "5  [-0.84055287, -0.036251433, 0.35056397, 0.2426...  \n",
       "6  [-1.0159315, 0.023863839, 0.33913317, 0.055935...  "
      ]
     },
     "execution_count": 14,
     "metadata": {},
     "output_type": "execute_result"
    }
   ],
   "source": [
    "df['embedding']= pd.Series([[]]*len(df))\n",
    "df['embedding']= df['유저'].map(lambda x:list(model.encode(x)))\n",
    "df.head()"
   ]
  },
  {
   "cell_type": "code",
   "execution_count": 15,
   "id": "4fbd8712",
   "metadata": {},
   "outputs": [],
   "source": [
    "df.to_csv('hospital-dataset.csv', index=False)"
   ]
  }
 ],
 "metadata": {
  "kernelspec": {
   "display_name": "chatbot",
   "language": "python",
   "name": "chatbot"
  },
  "language_info": {
   "codemirror_mode": {
    "name": "ipython",
    "version": 3
   },
   "file_extension": ".py",
   "mimetype": "text/x-python",
   "name": "python",
   "nbconvert_exporter": "python",
   "pygments_lexer": "ipython3",
   "version": "3.8.16"
  }
 },
 "nbformat": 4,
 "nbformat_minor": 5
}
