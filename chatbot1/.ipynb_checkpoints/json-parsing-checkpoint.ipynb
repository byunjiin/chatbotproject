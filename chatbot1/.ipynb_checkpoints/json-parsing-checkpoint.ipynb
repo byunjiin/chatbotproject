{
 "cells": [
  {
   "cell_type": "code",
   "execution_count": 1,
   "id": "868357d7",
   "metadata": {},
   "outputs": [],
   "source": [
    "import json\n",
    "import pandas as pd\n",
    "from sentence_transformers import SentenceTransformer\n",
    "from sklearn.metrics.pairwise import cosine_similarity"
   ]
  },
  {
   "cell_type": "code",
   "execution_count": 2,
   "id": "36c24d6a",
   "metadata": {},
   "outputs": [],
   "source": [
    "model = SentenceTransformer('jhgan/ko-sroberta-multitask')"
   ]
  },
  {
   "cell_type": "code",
   "execution_count": 3,
   "id": "87ab3579",
   "metadata": {},
   "outputs": [],
   "source": [
    "with open('tqa_sample.json', 'r', encoding='utf-8') as f:#인코딩 필수(안쓰면 에러)\n",
    "    data = json.load(f) #바로 로드"
   ]
  },
  {
   "cell_type": "code",
   "execution_count": 11,
   "id": "ed3545ac",
   "metadata": {},
   "outputs": [],
   "source": [
    "rows = [] #배열선언\n",
    "for d in data['data']:\n",
    "    for p in d['paragraphs']:\n",
    "        for q in p['qas']:\n",
    "            row={\n",
    "                'question':q['question'],\n",
    "                'answers':q['answers'][0]['text'],\n",
    "                'context':p['context']\n",
    "            }\n",
    "            rows.append(row) #배열안에 넣기\n",
    "df = pd.DataFrame(rows, columns=['question','answers','context']) #dataframe을 생성, rows는 1행씩 데이터를 넣어줌, columns는 열의 이름 지정"
   ]
  },
  {
   "cell_type": "code",
   "execution_count": 12,
   "id": "cec1c10b",
   "metadata": {},
   "outputs": [
    {
     "data": {
      "text/html": [
       "<div>\n",
       "<style scoped>\n",
       "    .dataframe tbody tr th:only-of-type {\n",
       "        vertical-align: middle;\n",
       "    }\n",
       "\n",
       "    .dataframe tbody tr th {\n",
       "        vertical-align: top;\n",
       "    }\n",
       "\n",
       "    .dataframe thead th {\n",
       "        text-align: right;\n",
       "    }\n",
       "</style>\n",
       "<table border=\"1\" class=\"dataframe\">\n",
       "  <thead>\n",
       "    <tr style=\"text-align: right;\">\n",
       "      <th></th>\n",
       "      <th>question</th>\n",
       "      <th>answers</th>\n",
       "      <th>context</th>\n",
       "    </tr>\n",
       "  </thead>\n",
       "  <tbody>\n",
       "    <tr>\n",
       "      <th>0</th>\n",
       "      <td>국제사회는 무엇을 거쳐서 국제적 거버넌스를 구성하였지</td>\n",
       "      <td>구조적 변화</td>\n",
       "      <td>국제연합을 비롯하여 전문성을 갖춘 국제기구들이 설립되기 시작하면서 분야별 과학적 증...</td>\n",
       "    </tr>\n",
       "    <tr>\n",
       "      <th>1</th>\n",
       "      <td>무엇을 거쳐서 국제사회는 국제적 거버넌스를 조직하였어</td>\n",
       "      <td>구조적 변화</td>\n",
       "      <td>국제연합을 비롯하여 전문성을 갖춘 국제기구들이 설립되기 시작하면서 분야별 과학적 증...</td>\n",
       "    </tr>\n",
       "    <tr>\n",
       "      <th>2</th>\n",
       "      <td>국제사회가 국제적 거버넌스를 만들기 위해 거친 게 뭘까</td>\n",
       "      <td>구조적 변화</td>\n",
       "      <td>국제연합을 비롯하여 전문성을 갖춘 국제기구들이 설립되기 시작하면서 분야별 과학적 증...</td>\n",
       "    </tr>\n",
       "    <tr>\n",
       "      <th>3</th>\n",
       "      <td>대학교가 학생회를 만들기 위해 거친 게 뭘까</td>\n",
       "      <td>구조적 변화</td>\n",
       "      <td>국제연합을 비롯하여 전문성을 갖춘 국제기구들이 설립되기 시작하면서 분야별 과학적 증...</td>\n",
       "    </tr>\n",
       "    <tr>\n",
       "      <th>4</th>\n",
       "      <td>국제사회는 구조적 변화를 거쳐서 무엇을 구성했지</td>\n",
       "      <td>국제적 거버넌스</td>\n",
       "      <td>국제연합을 비롯하여 전문성을 갖춘 국제기구들이 설립되기 시작하면서 분야별 과학적 증...</td>\n",
       "    </tr>\n",
       "  </tbody>\n",
       "</table>\n",
       "</div>"
      ],
      "text/plain": [
       "                         question   answers  \\\n",
       "0   국제사회는 무엇을 거쳐서 국제적 거버넌스를 구성하였지    구조적 변화   \n",
       "1   무엇을 거쳐서 국제사회는 국제적 거버넌스를 조직하였어    구조적 변화   \n",
       "2  국제사회가 국제적 거버넌스를 만들기 위해 거친 게 뭘까    구조적 변화   \n",
       "3        대학교가 학생회를 만들기 위해 거친 게 뭘까    구조적 변화   \n",
       "4      국제사회는 구조적 변화를 거쳐서 무엇을 구성했지  국제적 거버넌스   \n",
       "\n",
       "                                             context  \n",
       "0  국제연합을 비롯하여 전문성을 갖춘 국제기구들이 설립되기 시작하면서 분야별 과학적 증...  \n",
       "1  국제연합을 비롯하여 전문성을 갖춘 국제기구들이 설립되기 시작하면서 분야별 과학적 증...  \n",
       "2  국제연합을 비롯하여 전문성을 갖춘 국제기구들이 설립되기 시작하면서 분야별 과학적 증...  \n",
       "3  국제연합을 비롯하여 전문성을 갖춘 국제기구들이 설립되기 시작하면서 분야별 과학적 증...  \n",
       "4  국제연합을 비롯하여 전문성을 갖춘 국제기구들이 설립되기 시작하면서 분야별 과학적 증...  "
      ]
     },
     "execution_count": 12,
     "metadata": {},
     "output_type": "execute_result"
    }
   ],
   "source": [
    "df.head()#출력"
   ]
  },
  {
   "cell_type": "code",
   "execution_count": null,
   "id": "aaff6aa0",
   "metadata": {},
   "outputs": [],
   "source": []
  }
 ],
 "metadata": {
  "kernelspec": {
   "display_name": "chatbot",
   "language": "python",
   "name": "chatbot"
  },
  "language_info": {
   "codemirror_mode": {
    "name": "ipython",
    "version": 3
   },
   "file_extension": ".py",
   "mimetype": "text/x-python",
   "name": "python",
   "nbconvert_exporter": "python",
   "pygments_lexer": "ipython3",
   "version": "3.8.16"
  }
 },
 "nbformat": 4,
 "nbformat_minor": 5
}
