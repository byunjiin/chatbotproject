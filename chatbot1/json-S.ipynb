{
 "cells": [
  {
   "cell_type": "code",
   "execution_count": 19,
   "id": "e996d1df",
   "metadata": {},
   "outputs": [],
   "source": [
    "import json\n",
    "import pandas as pd\n",
    "from sentence_transformers import SentenceTransformer\n",
    "from sklearn.metrics.pairwise import cosine_similarity"
   ]
  },
  {
   "cell_type": "code",
   "execution_count": 20,
   "id": "5db53b4d",
   "metadata": {},
   "outputs": [],
   "source": [
    "model = SentenceTransformer('jhgan/ko-sroberta-multitask')"
   ]
  },
  {
   "cell_type": "code",
   "execution_count": 21,
   "id": "6a8701d3",
   "metadata": {},
   "outputs": [],
   "source": [
    "with open('synopses_sample.json', 'r', encoding='utf-8') as f:#인코딩 필수(안쓰면 에러)\n",
    "    data = json.load(f) #바로 로드"
   ]
  },
  {
   "cell_type": "code",
   "execution_count": 26,
   "id": "9d9ef838",
   "metadata": {},
   "outputs": [
    {
     "data": {
      "text/html": [
       "<div>\n",
       "<style scoped>\n",
       "    .dataframe tbody tr th:only-of-type {\n",
       "        vertical-align: middle;\n",
       "    }\n",
       "\n",
       "    .dataframe tbody tr th {\n",
       "        vertical-align: top;\n",
       "    }\n",
       "\n",
       "    .dataframe thead th {\n",
       "        text-align: right;\n",
       "    }\n",
       "</style>\n",
       "<table border=\"1\" class=\"dataframe\">\n",
       "  <thead>\n",
       "    <tr style=\"text-align: right;\">\n",
       "      <th></th>\n",
       "      <th>title_kr</th>\n",
       "      <th>synopsis</th>\n",
       "    </tr>\n",
       "  </thead>\n",
       "  <tbody>\n",
       "    <tr>\n",
       "      <th>0</th>\n",
       "      <td>터미네이터 2</td>\n",
       "      <td>미래, 인류와 기계의 전쟁은 계속 되는 가운데 스카이넷은 인류 저항군 사령관 존 코...</td>\n",
       "    </tr>\n",
       "    <tr>\n",
       "      <th>1</th>\n",
       "      <td>쇼생크 탈출</td>\n",
       "      <td>촉망받는 은행 간부 앤디 듀프레인(Andy Dufresne: 팀 로빈슨 분)은 아내...</td>\n",
       "    </tr>\n",
       "    <tr>\n",
       "      <th>2</th>\n",
       "      <td>레옹</td>\n",
       "      <td>한 손엔 우유 2팩이 든 가방, 다른 한 손엔 화분을 들고 뿌리 없이 떠도는 킬러 ...</td>\n",
       "    </tr>\n",
       "    <tr>\n",
       "      <th>3</th>\n",
       "      <td>센과 치히로의 행방불명</td>\n",
       "      <td>금지된 세계의 문이 열렸다! \\r</td>\n",
       "    </tr>\n",
       "    <tr>\n",
       "      <th>4</th>\n",
       "      <td>인생은 아름다워</td>\n",
       "      <td>이탈리아에서 극악한 파시즘이 맹위를 떨치던 1930년대말, 귀도(Guido Oref...</td>\n",
       "    </tr>\n",
       "  </tbody>\n",
       "</table>\n",
       "</div>"
      ],
      "text/plain": [
       "       title_kr                                           synopsis\n",
       "0       터미네이터 2  미래, 인류와 기계의 전쟁은 계속 되는 가운데 스카이넷은 인류 저항군 사령관 존 코...\n",
       "1        쇼생크 탈출  촉망받는 은행 간부 앤디 듀프레인(Andy Dufresne: 팀 로빈슨 분)은 아내...\n",
       "2            레옹  한 손엔 우유 2팩이 든 가방, 다른 한 손엔 화분을 들고 뿌리 없이 떠도는 킬러 ...\n",
       "3  센과 치히로의 행방불명                                 금지된 세계의 문이 열렸다! \\r\n",
       "4      인생은 아름다워  이탈리아에서 극악한 파시즘이 맹위를 떨치던 1930년대말, 귀도(Guido Oref..."
      ]
     },
     "execution_count": 26,
     "metadata": {},
     "output_type": "execute_result"
    }
   ],
   "source": [
    "rows = []\n",
    "for d in data:\n",
    "    row = {\n",
    "        'title_kr':d['title_kr'],\n",
    "        'synopsis':d['synopsis']\n",
    "    }\n",
    "    rows.append(row)\n",
    "    \n",
    "df = pd.DataFrame(rows, columns=['title_kr','synopsis'])\n",
    "df.head()"
   ]
  },
  {
   "cell_type": "code",
   "execution_count": 28,
   "id": "4e15d598",
   "metadata": {
    "scrolled": false
   },
   "outputs": [
    {
     "data": {
      "text/html": [
       "<div>\n",
       "<style scoped>\n",
       "    .dataframe tbody tr th:only-of-type {\n",
       "        vertical-align: middle;\n",
       "    }\n",
       "\n",
       "    .dataframe tbody tr th {\n",
       "        vertical-align: top;\n",
       "    }\n",
       "\n",
       "    .dataframe thead th {\n",
       "        text-align: right;\n",
       "    }\n",
       "</style>\n",
       "<table border=\"1\" class=\"dataframe\">\n",
       "  <thead>\n",
       "    <tr style=\"text-align: right;\">\n",
       "      <th></th>\n",
       "      <th>title_kr</th>\n",
       "      <th>synopsis</th>\n",
       "      <th>embedding</th>\n",
       "    </tr>\n",
       "  </thead>\n",
       "  <tbody>\n",
       "    <tr>\n",
       "      <th>0</th>\n",
       "      <td>터미네이터 2</td>\n",
       "      <td>미래, 인류와 기계의 전쟁은 계속 되는 가운데 스카이넷은 인류 저항군 사령관 존 코...</td>\n",
       "      <td>[0.5495499, 0.06933003, 0.24014601, -0.0050242...</td>\n",
       "    </tr>\n",
       "    <tr>\n",
       "      <th>1</th>\n",
       "      <td>쇼생크 탈출</td>\n",
       "      <td>촉망받는 은행 간부 앤디 듀프레인(Andy Dufresne: 팀 로빈슨 분)은 아내...</td>\n",
       "      <td>[-0.61467606, 0.6063599, 1.0031662, 0.10359329...</td>\n",
       "    </tr>\n",
       "    <tr>\n",
       "      <th>2</th>\n",
       "      <td>레옹</td>\n",
       "      <td>한 손엔 우유 2팩이 든 가방, 다른 한 손엔 화분을 들고 뿌리 없이 떠도는 킬러 ...</td>\n",
       "      <td>[0.43051463, -0.08845532, 1.0735713, 0.0257583...</td>\n",
       "    </tr>\n",
       "    <tr>\n",
       "      <th>3</th>\n",
       "      <td>센과 치히로의 행방불명</td>\n",
       "      <td>금지된 세계의 문이 열렸다! \\r</td>\n",
       "      <td>[-0.13354236, 0.31095746, 0.53156346, -0.31068...</td>\n",
       "    </tr>\n",
       "    <tr>\n",
       "      <th>4</th>\n",
       "      <td>인생은 아름다워</td>\n",
       "      <td>이탈리아에서 극악한 파시즘이 맹위를 떨치던 1930년대말, 귀도(Guido Oref...</td>\n",
       "      <td>[-0.5607177, -0.31162447, 0.6123163, 0.3853672...</td>\n",
       "    </tr>\n",
       "  </tbody>\n",
       "</table>\n",
       "</div>"
      ],
      "text/plain": [
       "       title_kr                                           synopsis  \\\n",
       "0       터미네이터 2  미래, 인류와 기계의 전쟁은 계속 되는 가운데 스카이넷은 인류 저항군 사령관 존 코...   \n",
       "1        쇼생크 탈출  촉망받는 은행 간부 앤디 듀프레인(Andy Dufresne: 팀 로빈슨 분)은 아내...   \n",
       "2            레옹  한 손엔 우유 2팩이 든 가방, 다른 한 손엔 화분을 들고 뿌리 없이 떠도는 킬러 ...   \n",
       "3  센과 치히로의 행방불명                                 금지된 세계의 문이 열렸다! \\r   \n",
       "4      인생은 아름다워  이탈리아에서 극악한 파시즘이 맹위를 떨치던 1930년대말, 귀도(Guido Oref...   \n",
       "\n",
       "                                           embedding  \n",
       "0  [0.5495499, 0.06933003, 0.24014601, -0.0050242...  \n",
       "1  [-0.61467606, 0.6063599, 1.0031662, 0.10359329...  \n",
       "2  [0.43051463, -0.08845532, 1.0735713, 0.0257583...  \n",
       "3  [-0.13354236, 0.31095746, 0.53156346, -0.31068...  \n",
       "4  [-0.5607177, -0.31162447, 0.6123163, 0.3853672...  "
      ]
     },
     "execution_count": 28,
     "metadata": {},
     "output_type": "execute_result"
    }
   ],
   "source": [
    "df['embedding'] = pd.Series([[]]*len(df))\n",
    "df['embedding'] = df['title_kr'].map(lambda x:list(model.encode(x)))\n",
    "df.head()"
   ]
  },
  {
   "cell_type": "code",
   "execution_count": 29,
   "id": "51bef77b",
   "metadata": {},
   "outputs": [],
   "source": [
    "df.to_json('synopses_dataset.json')"
   ]
  },
  {
   "cell_type": "code",
   "execution_count": null,
   "id": "d41b5ab8",
   "metadata": {},
   "outputs": [],
   "source": []
  }
 ],
 "metadata": {
  "kernelspec": {
   "display_name": "chatbot",
   "language": "python",
   "name": "chatbot"
  },
  "language_info": {
   "codemirror_mode": {
    "name": "ipython",
    "version": 3
   },
   "file_extension": ".py",
   "mimetype": "text/x-python",
   "name": "python",
   "nbconvert_exporter": "python",
   "pygments_lexer": "ipython3",
   "version": "3.8.16"
  }
 },
 "nbformat": 4,
 "nbformat_minor": 5
}
